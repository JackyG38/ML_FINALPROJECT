{
  "cells": [
    {
      "cell_type": "markdown",
      "source": [
        "Saving as a pickle model\n"
      ],
      "metadata": {
        "id": "sitYmxACmyXu"
      },
      "id": "sitYmxACmyXu"
    },
    {
      "cell_type": "code",
      "source": [
        "import pandas as pd\n",
        "from sklearn.ensemble import RandomForestRegressor\n",
        "from sklearn.multioutput import MultiOutputRegressor\n",
        "from sklearn.model_selection import train_test_split\n",
        "from sklearn.metrics import mean_squared_error\n",
        "import numpy as np\n",
        "import joblib\n",
        "\n",
        "# Load the dataset\n",
        "file_path = 'Modified_Final.csv'  # Update with your file path\n",
        "data = pd.read_csv(file_path)\n",
        "\n",
        "# Prepare features (X) and targets (y)\n",
        "X = data[['yield_min', 'yield_max']]\n",
        "y = data[['Temperature', 'Avg Precipitation', 'Re Humidity']]\n",
        "\n",
        "# Split dataset into training and testing sets\n",
        "X_train, X_test, y_train, y_test = train_test_split(X, y, test_size=0.2, random_state=42)\n",
        "\n",
        "# Define the Random Forest multi-output regressor with specified hyperparameters\n",
        "base_regressor = RandomForestRegressor(\n",
        "    max_depth=None,\n",
        "    min_samples_leaf=4,\n",
        "    min_samples_split=2,\n",
        "    n_estimators=100,\n",
        "    random_state=42\n",
        ")\n",
        "multi_output_regressor = MultiOutputRegressor(base_regressor)\n",
        "\n",
        "# Train the model\n",
        "multi_output_regressor.fit(X_train, y_train)\n",
        "\n",
        "# Evaluate the model\n",
        "y_pred = multi_output_regressor.predict(X_test)\n",
        "mse = mean_squared_error(y_test, y_pred, multioutput='uniform_average')\n",
        "print(f\"Mean Squared Error: {mse:.2f}\")\n",
        "\n",
        "# Save the trained model\n",
        "model_path = 'model1_c.pkl'\n",
        "joblib.dump(multi_output_regressor, model_path)\n",
        "print(f\"Model saved to {model_path}\")\n",
        "\n",
        "# Define a function for user interaction\n",
        "def interactive_prediction():\n",
        "    \"\"\"\n",
        "    Function to interact with the user, take min and max yield as input,\n",
        "    and output the predicted temperature, precipitation, and humidity.\n",
        "    \"\"\"\n",
        "    # Load the trained model\n",
        "    loaded_model = joblib.load(model_path)\n",
        "\n",
        "    # Ask user for input\n",
        "    print(\"Enter the minimum and maximum yield to get predictions:\")\n",
        "    min_yield = float(input(\"Minimum Yield: \"))\n",
        "    max_yield = float(input(\"Maximum Yield: \"))\n",
        "\n",
        "    # Prepare input data\n",
        "    input_data = np.array([[min_yield, max_yield]])\n",
        "\n",
        "    # Get predictions\n",
        "    prediction = loaded_model.predict(input_data)\n",
        "\n",
        "    # Display predictions\n",
        "    print(\"\\nPredicted values:\")\n",
        "    print(f\"Temperature: {prediction[0, 0]:.2f} °C\")\n",
        "    print(f\"Avg Precipitation: {prediction[0, 1]:.2f} mm\")\n",
        "    print(f\"Relative Humidity: {prediction[0, 2]:.2f} %\")\n",
        "\n",
        "# Run the interactive prediction function\n",
        "if __name__ == \"__main__\":\n",
        "    interactive_prediction()\n"
      ],
      "metadata": {
        "colab": {
          "base_uri": "https://localhost:8080/"
        },
        "id": "JKi-KRZzmJdN",
        "outputId": "425b2fc6-d481-4801-e204-960c62c1dd0c"
      },
      "id": "JKi-KRZzmJdN",
      "execution_count": 47,
      "outputs": [
        {
          "output_type": "stream",
          "name": "stdout",
          "text": [
            "Mean Squared Error: 41.16\n",
            "Model saved to model1_c.pkl\n",
            "Enter the minimum and maximum yield to get predictions:\n",
            "Minimum Yield: 2300\n",
            "Maximum Yield: 2400\n",
            "\n",
            "Predicted values:\n",
            "Temperature: 26.11 °C\n",
            "Avg Precipitation: 222.47 mm\n",
            "Relative Humidity: 84.67 %\n"
          ]
        },
        {
          "output_type": "stream",
          "name": "stderr",
          "text": [
            "/usr/local/lib/python3.10/dist-packages/sklearn/base.py:493: UserWarning: X does not have valid feature names, but RandomForestRegressor was fitted with feature names\n",
            "  warnings.warn(\n",
            "/usr/local/lib/python3.10/dist-packages/sklearn/base.py:493: UserWarning: X does not have valid feature names, but RandomForestRegressor was fitted with feature names\n",
            "  warnings.warn(\n",
            "/usr/local/lib/python3.10/dist-packages/sklearn/base.py:493: UserWarning: X does not have valid feature names, but RandomForestRegressor was fitted with feature names\n",
            "  warnings.warn(\n"
          ]
        }
      ]
    },
    {
      "cell_type": "code",
      "source": [
        "import pickle\n",
        "from google.colab import files"
      ],
      "metadata": {
        "id": "kuvGUlGem22B"
      },
      "id": "kuvGUlGem22B",
      "execution_count": 45,
      "outputs": []
    },
    {
      "cell_type": "code",
      "source": [
        "# Step 2: Save the model to a pickle file\n",
        "filename = 'model_1c.pkl'\n",
        "with open(filename, 'wb') as file:\n",
        "    pickle.dump(model, file)\n",
        "print(f\"Model saved as {filename}\")\n",
        "\n"
      ],
      "metadata": {
        "colab": {
          "base_uri": "https://localhost:8080/"
        },
        "id": "sri-ewex-Wxx",
        "outputId": "ed260eb0-175d-4312-b165-60ac4ec545ea"
      },
      "id": "sri-ewex-Wxx",
      "execution_count": 49,
      "outputs": [
        {
          "output_type": "stream",
          "name": "stdout",
          "text": [
            "Model saved as model_1c.pkl\n"
          ]
        }
      ]
    },
    {
      "cell_type": "code",
      "source": [
        "\n",
        "files.download(filename)"
      ],
      "metadata": {
        "colab": {
          "base_uri": "https://localhost:8080/",
          "height": 17
        },
        "id": "-zW2FOWC_Jqf",
        "outputId": "ad71007e-6286-482d-95a6-dc0161d6a091"
      },
      "id": "-zW2FOWC_Jqf",
      "execution_count": 51,
      "outputs": [
        {
          "output_type": "display_data",
          "data": {
            "text/plain": [
              "<IPython.core.display.Javascript object>"
            ],
            "application/javascript": [
              "\n",
              "    async function download(id, filename, size) {\n",
              "      if (!google.colab.kernel.accessAllowed) {\n",
              "        return;\n",
              "      }\n",
              "      const div = document.createElement('div');\n",
              "      const label = document.createElement('label');\n",
              "      label.textContent = `Downloading \"${filename}\": `;\n",
              "      div.appendChild(label);\n",
              "      const progress = document.createElement('progress');\n",
              "      progress.max = size;\n",
              "      div.appendChild(progress);\n",
              "      document.body.appendChild(div);\n",
              "\n",
              "      const buffers = [];\n",
              "      let downloaded = 0;\n",
              "\n",
              "      const channel = await google.colab.kernel.comms.open(id);\n",
              "      // Send a message to notify the kernel that we're ready.\n",
              "      channel.send({})\n",
              "\n",
              "      for await (const message of channel.messages) {\n",
              "        // Send a message to notify the kernel that we're ready.\n",
              "        channel.send({})\n",
              "        if (message.buffers) {\n",
              "          for (const buffer of message.buffers) {\n",
              "            buffers.push(buffer);\n",
              "            downloaded += buffer.byteLength;\n",
              "            progress.value = downloaded;\n",
              "          }\n",
              "        }\n",
              "      }\n",
              "      const blob = new Blob(buffers, {type: 'application/binary'});\n",
              "      const a = document.createElement('a');\n",
              "      a.href = window.URL.createObjectURL(blob);\n",
              "      a.download = filename;\n",
              "      div.appendChild(a);\n",
              "      a.click();\n",
              "      div.remove();\n",
              "    }\n",
              "  "
            ]
          },
          "metadata": {}
        },
        {
          "output_type": "display_data",
          "data": {
            "text/plain": [
              "<IPython.core.display.Javascript object>"
            ],
            "application/javascript": [
              "download(\"download_e30c1aed-058c-4a6a-8bd3-3f6cb2f2dc51\", \"model_1c.pkl\", 2941002)"
            ]
          },
          "metadata": {}
        }
      ]
    },
    {
      "cell_type": "code",
      "source": [
        "import joblib\n",
        "\n",
        "# Load the model\n",
        "model = joblib.load('model1_c.pkl')\n",
        "\n",
        "# Inspect the model to determine the input requirements\n",
        "print(model)\n",
        "print(\"Number of input features:\", model.estimators_[0].n_features_in_)\n",
        "\n",
        "n_output_features = model.estimators_[0].n_outputs_ # Access n_outputs_ from the estimator\n",
        "print(f\"Number of output features: {n_output_features}\")\n"
      ],
      "metadata": {
        "colab": {
          "base_uri": "https://localhost:8080/"
        },
        "id": "r6ZXMMj3FfqA",
        "outputId": "1d9e3188-7abb-4871-987e-4a8962653759"
      },
      "id": "r6ZXMMj3FfqA",
      "execution_count": 57,
      "outputs": [
        {
          "output_type": "stream",
          "name": "stdout",
          "text": [
            "MultiOutputRegressor(estimator=RandomForestRegressor(min_samples_leaf=4,\n",
            "                                                     random_state=42))\n",
            "Number of input features: 2\n",
            "Number of output features: 1\n"
          ]
        }
      ]
    },
    {
      "cell_type": "code",
      "source": [
        "loaded_model = joblib.load('model1_c.pkl')\n",
        "\n",
        "# Test prediction\n",
        "dummy_input = np.array([[1000, 3000]])\n",
        "prediction = loaded_model.predict(dummy_input)\n",
        "print(f\"Prediction shape: {prediction.shape}\")"
      ],
      "metadata": {
        "colab": {
          "base_uri": "https://localhost:8080/"
        },
        "id": "aF6JEbofGpap",
        "outputId": "00aadca4-fd10-48e3-bafd-b51c854cbd85"
      },
      "id": "aF6JEbofGpap",
      "execution_count": 58,
      "outputs": [
        {
          "output_type": "stream",
          "name": "stdout",
          "text": [
            "Prediction shape: (1, 3)\n"
          ]
        },
        {
          "output_type": "stream",
          "name": "stderr",
          "text": [
            "/usr/local/lib/python3.10/dist-packages/sklearn/base.py:493: UserWarning: X does not have valid feature names, but RandomForestRegressor was fitted with feature names\n",
            "  warnings.warn(\n",
            "/usr/local/lib/python3.10/dist-packages/sklearn/base.py:493: UserWarning: X does not have valid feature names, but RandomForestRegressor was fitted with feature names\n",
            "  warnings.warn(\n",
            "/usr/local/lib/python3.10/dist-packages/sklearn/base.py:493: UserWarning: X does not have valid feature names, but RandomForestRegressor was fitted with feature names\n",
            "  warnings.warn(\n"
          ]
        }
      ]
    },
    {
      "cell_type": "code",
      "source": [
        "import joblib\n",
        "import numpy as np\n",
        "\n",
        "# Load the model\n",
        "model = joblib.load('model1.pkl')  # Load your model as in Streamlit\n",
        "\n",
        "# Define inputs as would be provided in Streamlit\n",
        "yield_min = 1000.0  # Replace with your test value\n",
        "yield_max = 3000.0  # Replace with your test value\n",
        "\n",
        "# Prepare input data\n",
        "input_data = np.array([[yield_min, yield_max]])\n",
        "\n",
        "# Log input shape\n",
        "print(f\"Input Data: {input_data}\")\n",
        "print(f\"Input Shape: {input_data.shape}\")\n",
        "\n",
        "# Perform prediction\n",
        "try:\n",
        "    prediction = model.predict(input_data)\n",
        "    print(f\"Prediction: {prediction}\")\n",
        "except Exception as e:\n",
        "    print(f\"An error occurred during prediction: {e}\")\n"
      ],
      "metadata": {
        "colab": {
          "base_uri": "https://localhost:8080/"
        },
        "id": "Kjh_Pdg1xw8C",
        "outputId": "82e20db8-a0f4-4e7c-a491-44b159f29451"
      },
      "id": "Kjh_Pdg1xw8C",
      "execution_count": 20,
      "outputs": [
        {
          "output_type": "stream",
          "name": "stdout",
          "text": [
            "Input Data: [[1000. 3000.]]\n",
            "Input Shape: (1, 2)\n",
            "An error occurred during prediction: X has 2 features, but RandomForestRegressor is expecting 3 features as input.\n"
          ]
        },
        {
          "output_type": "stream",
          "name": "stderr",
          "text": [
            "/usr/local/lib/python3.10/dist-packages/sklearn/base.py:493: UserWarning: X does not have valid feature names, but RandomForestRegressor was fitted with feature names\n",
            "  warnings.warn(\n"
          ]
        }
      ]
    },
    {
      "cell_type": "markdown",
      "source": [
        "Model 2 Streamlit"
      ],
      "metadata": {
        "id": "AW15NGv7oiVW"
      },
      "id": "AW15NGv7oiVW"
    }
  ],
  "metadata": {
    "colab": {
      "provenance": []
    },
    "language_info": {
      "name": "python"
    },
    "kernelspec": {
      "name": "python3",
      "display_name": "Python 3"
    }
  },
  "nbformat": 4,
  "nbformat_minor": 5
}